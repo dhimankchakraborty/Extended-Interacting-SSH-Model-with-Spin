{
 "cells": [
  {
   "cell_type": "code",
   "execution_count": 13,
   "id": "2d1789e5",
   "metadata": {},
   "outputs": [],
   "source": [
    "import numpy as np\n",
    "from functions import *"
   ]
  },
  {
   "cell_type": "code",
   "execution_count": 14,
   "id": "b29242dd",
   "metadata": {},
   "outputs": [],
   "source": [
    "tot_sites = 4\n",
    "N_e_up = 1\n",
    "N_e_down = 1\n",
    "J_11 = 1\n",
    "J_1 = 2\n",
    "J_33 = 3\n",
    "J_3 = 4\n",
    "U = 0"
   ]
  },
  {
   "cell_type": "code",
   "execution_count": 15,
   "id": "3e8c7903",
   "metadata": {},
   "outputs": [
    {
     "name": "stdout",
     "output_type": "stream",
     "text": [
      "0 ------ [1 0 0 0 1 0 0 0]\n",
      "1 ------ [1 0 0 0 0 1 0 0]\n",
      "2 ------ [1 0 0 0 0 0 1 0]\n",
      "3 ------ [1 0 0 0 0 0 0 1]\n",
      "4 ------ [0 1 0 0 1 0 0 0]\n",
      "5 ------ [0 1 0 0 0 1 0 0]\n",
      "6 ------ [0 1 0 0 0 0 1 0]\n",
      "7 ------ [0 1 0 0 0 0 0 1]\n",
      "8 ------ [0 0 1 0 1 0 0 0]\n",
      "9 ------ [0 0 1 0 0 1 0 0]\n",
      "10 ------ [0 0 1 0 0 0 1 0]\n",
      "11 ------ [0 0 1 0 0 0 0 1]\n",
      "12 ------ [0 0 0 1 1 0 0 0]\n",
      "13 ------ [0 0 0 1 0 1 0 0]\n",
      "14 ------ [0 0 0 1 0 0 1 0]\n",
      "15 ------ [0 0 0 1 0 0 0 1]\n"
     ]
    }
   ],
   "source": [
    "basis_set = basis_set_generator(tot_sites, N_e_up, N_e_down)\n",
    "\n",
    "for i, state in enumerate(basis_set):\n",
    "    print(f'{i} ------ {state}')"
   ]
  },
  {
   "cell_type": "code",
   "execution_count": 16,
   "id": "50e6557d",
   "metadata": {},
   "outputs": [
    {
     "name": "stdout",
     "output_type": "stream",
     "text": [
      "    |1.0|    |3.0|1.0|    |    |    |    |    |    |    |3.0|    |    |    |\n",
      "1.0|    |2.0|    |    |1.0|    |    |    |    |    |    |    |3.0|    |    |\n",
      "    |2.0|    |1.0|    |    |1.0|    |    |    |    |    |    |    |3.0|    |\n",
      "3.0|    |1.0|    |    |    |    |1.0|    |    |    |    |    |    |    |3.0|\n",
      "1.0|    |    |    |    |1.0|    |3.0|2.0|    |    |    |    |    |    |    |\n",
      "    |1.0|    |    |1.0|    |2.0|    |    |2.0|    |    |    |    |    |    |\n",
      "    |    |1.0|    |    |2.0|    |1.0|    |    |2.0|    |    |    |    |    |\n",
      "    |    |    |1.0|3.0|    |1.0|    |    |    |    |2.0|    |    |    |    |\n",
      "    |    |    |    |2.0|    |    |    |    |1.0|    |3.0|1.0|    |    |    |\n",
      "    |    |    |    |    |2.0|    |    |1.0|    |2.0|    |    |1.0|    |    |\n",
      "    |    |    |    |    |    |2.0|    |    |2.0|    |1.0|    |    |1.0|    |\n",
      "    |    |    |    |    |    |    |2.0|3.0|    |1.0|    |    |    |    |1.0|\n",
      "3.0|    |    |    |    |    |    |    |1.0|    |    |    |    |1.0|    |3.0|\n",
      "    |3.0|    |    |    |    |    |    |    |1.0|    |    |1.0|    |2.0|    |\n",
      "    |    |3.0|    |    |    |    |    |    |    |1.0|    |    |2.0|    |1.0|\n",
      "    |    |    |3.0|    |    |    |    |    |    |    |1.0|3.0|    |1.0|    |\n"
     ]
    }
   ],
   "source": [
    "hamiltonian = hamiltonian_matrix_generator(basis_set, tot_sites, J_11, J_1, J_33, J_3, U)\n",
    "\n",
    "for row in hamiltonian:\n",
    "    for element in row:\n",
    "        if element == 0:\n",
    "            print(\"    \", end=\"|\")\n",
    "        else:\n",
    "            print(element, end=\"|\")\n",
    "    print()"
   ]
  },
  {
   "cell_type": "code",
   "execution_count": 17,
   "id": "f59e81cd",
   "metadata": {},
   "outputs": [],
   "source": [
    "e_val_arr, e_vec_arr = np.linalg.eigh(hamiltonian)"
   ]
  },
  {
   "cell_type": "code",
   "execution_count": 18,
   "id": "d166f420",
   "metadata": {},
   "outputs": [
    {
     "name": "stdout",
     "output_type": "stream",
     "text": [
      "[-7.23606798e+00 -5.00000000e+00 -5.00000000e+00 -2.76393202e+00\n",
      " -2.23606798e+00 -2.23606798e+00 -4.96998417e-15 -2.65154938e-15\n",
      " -1.42175409e-15 -7.35939491e-17  2.23606798e+00  2.23606798e+00\n",
      "  2.76393202e+00  5.00000000e+00  5.00000000e+00  7.23606798e+00]\n"
     ]
    }
   ],
   "source": [
    "print(e_val_arr)"
   ]
  }
 ],
 "metadata": {
  "kernelspec": {
   "display_name": "Python 3",
   "language": "python",
   "name": "python3"
  },
  "language_info": {
   "codemirror_mode": {
    "name": "ipython",
    "version": 3
   },
   "file_extension": ".py",
   "mimetype": "text/x-python",
   "name": "python",
   "nbconvert_exporter": "python",
   "pygments_lexer": "ipython3",
   "version": "3.13.5"
  }
 },
 "nbformat": 4,
 "nbformat_minor": 5
}

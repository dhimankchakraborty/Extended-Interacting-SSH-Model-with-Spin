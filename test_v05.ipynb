{
 "cells": [
  {
   "cell_type": "code",
   "execution_count": 1,
   "id": "d5aeff1a",
   "metadata": {},
   "outputs": [],
   "source": [
    "import numpy as np\n",
    "import scipy as sp\n",
    "import matplotlib.pyplot as plt\n",
    "from time import process_time\n",
    "from functions import *"
   ]
  },
  {
   "cell_type": "code",
   "execution_count": 2,
   "id": "4d5ec0bb",
   "metadata": {},
   "outputs": [],
   "source": [
    "def d_x(k, J_11, J_1, J_3, J_33): # checked OK\n",
    "    return (-1 * J_11) - ((J_1 + J_33) * np.cos(k)) - (J_3 * np.cos(2 * k))\n",
    "\n",
    "\n",
    "def d_y(k, J_11, J_1, J_3, J_33): # checked OK\n",
    "    return (-1 * J_11) - ((J_1 - J_33) * np.sin(k)) - (J_3 * np.sin(2 * k))\n",
    "\n",
    "\n",
    "def delta_k_d_x(k, J_1, J_3, J_33): # checked OK\n",
    "    return ((J_1 + J_33) * np.sin(k)) + (2 * J_3 * np.sin(2 * k))\n",
    "\n",
    "\n",
    "def delta_k_d_y(k, J_1, J_3, J_33): # checked OK\n",
    "    return ((-1) * (J_1 - J_33) * np.cos(k)) - (2 * J_3 * np.cos(2 * k))\n",
    "\n",
    "\n",
    "def delta_k_d_x_num(k, J_11, J_1, J_3, J_33): # checked OK\n",
    "    return sp.differentiate.derivative(lambda x: d_x(x, J_11, J_1, J_3, J_33), k)\n",
    "\n",
    "\n",
    "def delta_k_d_y_num(k, J_11, J_1, J_3, J_33): # checked OK\n",
    "    return sp.differentiate.derivative(lambda x: d_y(x, J_11, J_1, J_3, J_33), k)\n",
    "\n",
    "\n",
    "def W_integrand(k, J_11, J_1, J_3, J_33): # checked OK\n",
    "    return (1 / (2 * np.pi)) * ((d_x(k, J_11, J_1, J_3, J_33) * delta_k_d_y(k, J_1, J_3, J_33)) - (d_y(k, J_11, J_1, J_3, J_33) * delta_k_d_x(k, J_1, J_3, J_33))) / ((d_x(k, J_11, J_1, J_3, J_33)**2) + (d_y(k, J_11, J_1, J_3, J_33)**2))\n",
    "\n",
    "\n",
    "def W_integrand_num(k, J_11, J_1, J_3, J_33):\n",
    "    return (1 / (2 * np.pi)) * ((d_x(k, J_11, J_1, J_3, J_33) * delta_k_d_y_num(k, J_11, J_1, J_3, J_33)) - (d_y(k, J_11, J_1, J_3, J_33) * delta_k_d_x_num(k, J_11, J_1, J_3, J_33))) / ((d_x(k, J_11, J_1, J_3, J_33)**2) + (d_y(k, J_11, J_1, J_3, J_33)**2))"
   ]
  },
  {
   "cell_type": "code",
   "execution_count": 3,
   "id": "5579cf43",
   "metadata": {},
   "outputs": [
    {
     "name": "stdout",
     "output_type": "stream",
     "text": [
      "0.5\n",
      "-0.09999999999999988\n",
      "-4.776122516674676e-16\n",
      "-1.1\n",
      "-0.3366739180790094\n"
     ]
    }
   ],
   "source": [
    "J_1 = 2\n",
    "J_11 = 0.1\n",
    "J_3 = 1.5\n",
    "J_33 = 0.1\n",
    "k = np.pi\n",
    "\n",
    "print(d_x(k, J_11, J_1, J_3, J_33))\n",
    "print(d_y(k, J_11, J_1, J_3, J_33))\n",
    "print(delta_k_d_x(k, J_1, J_3, J_33))\n",
    "print(delta_k_d_y(k, J_1, J_3, J_33))\n",
    "print(W_integrand(k, J_11, J_1, J_3, J_33))"
   ]
  },
  {
   "cell_type": "code",
   "execution_count": null,
   "id": "d00eeda3",
   "metadata": {},
   "outputs": [
    {
     "name": "stdout",
     "output_type": "stream",
     "text": [
      "(0.978901836386552, 8.568632314195428e-09)\n"
     ]
    },
    {
     "ename": "TypeError",
     "evalue": "unsupported operand type(s) for *: 'float' and '_RichResult'",
     "output_type": "error",
     "traceback": [
      "\u001b[31m---------------------------------------------------------------------------\u001b[39m",
      "\u001b[31mTypeError\u001b[39m                                 Traceback (most recent call last)",
      "\u001b[36mCell\u001b[39m\u001b[36m \u001b[39m\u001b[32mIn[4]\u001b[39m\u001b[32m, line 3\u001b[39m\n\u001b[32m      1\u001b[39m winding_no_quad = sp.integrate.quad(\u001b[38;5;28;01mlambda\u001b[39;00m x: W_integrand(x, J_11, J_1, J_3, J_33), \u001b[32m0\u001b[39m, (\u001b[32m2\u001b[39m * np.pi - \u001b[32m0.1\u001b[39m))\n\u001b[32m      2\u001b[39m \u001b[38;5;28mprint\u001b[39m(winding_no_quad)\n\u001b[32m----> \u001b[39m\u001b[32m3\u001b[39m winding_no_quad_num = \u001b[43msp\u001b[49m\u001b[43m.\u001b[49m\u001b[43mintegrate\u001b[49m\u001b[43m.\u001b[49m\u001b[43mquad\u001b[49m\u001b[43m(\u001b[49m\u001b[38;5;28;43;01mlambda\u001b[39;49;00m\u001b[43m \u001b[49m\u001b[43mx\u001b[49m\u001b[43m:\u001b[49m\u001b[43m \u001b[49m\u001b[43mW_integrand_num\u001b[49m\u001b[43m(\u001b[49m\u001b[43mk\u001b[49m\u001b[43m,\u001b[49m\u001b[43m \u001b[49m\u001b[43mJ_11\u001b[49m\u001b[43m,\u001b[49m\u001b[43m \u001b[49m\u001b[43mJ_1\u001b[49m\u001b[43m,\u001b[49m\u001b[43m \u001b[49m\u001b[43mJ_3\u001b[49m\u001b[43m,\u001b[49m\u001b[43m \u001b[49m\u001b[43mJ_33\u001b[49m\u001b[43m)\u001b[49m\u001b[43m,\u001b[49m\u001b[43m \u001b[49m\u001b[32;43m0\u001b[39;49m\u001b[43m,\u001b[49m\u001b[43m \u001b[49m\u001b[43m(\u001b[49m\u001b[32;43m2\u001b[39;49m\u001b[43m \u001b[49m\u001b[43m*\u001b[49m\u001b[43m \u001b[49m\u001b[43mnp\u001b[49m\u001b[43m.\u001b[49m\u001b[43mpi\u001b[49m\u001b[43m \u001b[49m\u001b[43m-\u001b[49m\u001b[43m \u001b[49m\u001b[32;43m0.1\u001b[39;49m\u001b[43m)\u001b[49m\u001b[43m)\u001b[49m\n\u001b[32m      4\u001b[39m \u001b[38;5;28mprint\u001b[39m(winding_no_quad_num)\n",
      "\u001b[36mFile \u001b[39m\u001b[32mc:\\Users\\DHIMAN\\AppData\\Local\\Programs\\Python\\Python313\\Lib\\site-packages\\scipy\\integrate\\_quadpack_py.py:459\u001b[39m, in \u001b[36mquad\u001b[39m\u001b[34m(func, a, b, args, full_output, epsabs, epsrel, limit, points, weight, wvar, wopts, maxp1, limlst, complex_func)\u001b[39m\n\u001b[32m    456\u001b[39m     \u001b[38;5;28;01mreturn\u001b[39;00m retval\n\u001b[32m    458\u001b[39m \u001b[38;5;28;01mif\u001b[39;00m weight \u001b[38;5;129;01mis\u001b[39;00m \u001b[38;5;28;01mNone\u001b[39;00m:\n\u001b[32m--> \u001b[39m\u001b[32m459\u001b[39m     retval = \u001b[43m_quad\u001b[49m\u001b[43m(\u001b[49m\u001b[43mfunc\u001b[49m\u001b[43m,\u001b[49m\u001b[43m \u001b[49m\u001b[43ma\u001b[49m\u001b[43m,\u001b[49m\u001b[43m \u001b[49m\u001b[43mb\u001b[49m\u001b[43m,\u001b[49m\u001b[43m \u001b[49m\u001b[43margs\u001b[49m\u001b[43m,\u001b[49m\u001b[43m \u001b[49m\u001b[43mfull_output\u001b[49m\u001b[43m,\u001b[49m\u001b[43m \u001b[49m\u001b[43mepsabs\u001b[49m\u001b[43m,\u001b[49m\u001b[43m \u001b[49m\u001b[43mepsrel\u001b[49m\u001b[43m,\u001b[49m\u001b[43m \u001b[49m\u001b[43mlimit\u001b[49m\u001b[43m,\u001b[49m\n\u001b[32m    460\u001b[39m \u001b[43m                   \u001b[49m\u001b[43mpoints\u001b[49m\u001b[43m)\u001b[49m\n\u001b[32m    461\u001b[39m \u001b[38;5;28;01melse\u001b[39;00m:\n\u001b[32m    462\u001b[39m     \u001b[38;5;28;01mif\u001b[39;00m points \u001b[38;5;129;01mis\u001b[39;00m \u001b[38;5;129;01mnot\u001b[39;00m \u001b[38;5;28;01mNone\u001b[39;00m:\n",
      "\u001b[36mFile \u001b[39m\u001b[32mc:\\Users\\DHIMAN\\AppData\\Local\\Programs\\Python\\Python313\\Lib\\site-packages\\scipy\\integrate\\_quadpack_py.py:606\u001b[39m, in \u001b[36m_quad\u001b[39m\u001b[34m(func, a, b, args, full_output, epsabs, epsrel, limit, points)\u001b[39m\n\u001b[32m    604\u001b[39m \u001b[38;5;28;01mif\u001b[39;00m points \u001b[38;5;129;01mis\u001b[39;00m \u001b[38;5;28;01mNone\u001b[39;00m:\n\u001b[32m    605\u001b[39m     \u001b[38;5;28;01mif\u001b[39;00m infbounds == \u001b[32m0\u001b[39m:\n\u001b[32m--> \u001b[39m\u001b[32m606\u001b[39m         \u001b[38;5;28;01mreturn\u001b[39;00m \u001b[43m_quadpack\u001b[49m\u001b[43m.\u001b[49m\u001b[43m_qagse\u001b[49m\u001b[43m(\u001b[49m\u001b[43mfunc\u001b[49m\u001b[43m,\u001b[49m\u001b[43ma\u001b[49m\u001b[43m,\u001b[49m\u001b[43mb\u001b[49m\u001b[43m,\u001b[49m\u001b[43margs\u001b[49m\u001b[43m,\u001b[49m\u001b[43mfull_output\u001b[49m\u001b[43m,\u001b[49m\u001b[43mepsabs\u001b[49m\u001b[43m,\u001b[49m\u001b[43mepsrel\u001b[49m\u001b[43m,\u001b[49m\u001b[43mlimit\u001b[49m\u001b[43m)\u001b[49m\n\u001b[32m    607\u001b[39m     \u001b[38;5;28;01melse\u001b[39;00m:\n\u001b[32m    608\u001b[39m         \u001b[38;5;28;01mreturn\u001b[39;00m _quadpack._qagie(func, bound, infbounds, args, full_output, \n\u001b[32m    609\u001b[39m                                 epsabs, epsrel, limit)\n",
      "\u001b[36mCell\u001b[39m\u001b[36m \u001b[39m\u001b[32mIn[4]\u001b[39m\u001b[32m, line 3\u001b[39m, in \u001b[36m<lambda>\u001b[39m\u001b[34m(x)\u001b[39m\n\u001b[32m      1\u001b[39m winding_no_quad = sp.integrate.quad(\u001b[38;5;28;01mlambda\u001b[39;00m x: W_integrand(x, J_11, J_1, J_3, J_33), \u001b[32m0\u001b[39m, (\u001b[32m2\u001b[39m * np.pi - \u001b[32m0.1\u001b[39m))\n\u001b[32m      2\u001b[39m \u001b[38;5;28mprint\u001b[39m(winding_no_quad)\n\u001b[32m----> \u001b[39m\u001b[32m3\u001b[39m winding_no_quad_num = sp.integrate.quad(\u001b[38;5;28;01mlambda\u001b[39;00m x: \u001b[43mW_integrand_num\u001b[49m\u001b[43m(\u001b[49m\u001b[43mk\u001b[49m\u001b[43m,\u001b[49m\u001b[43m \u001b[49m\u001b[43mJ_11\u001b[49m\u001b[43m,\u001b[49m\u001b[43m \u001b[49m\u001b[43mJ_1\u001b[49m\u001b[43m,\u001b[49m\u001b[43m \u001b[49m\u001b[43mJ_3\u001b[49m\u001b[43m,\u001b[49m\u001b[43m \u001b[49m\u001b[43mJ_33\u001b[49m\u001b[43m)\u001b[49m, \u001b[32m0\u001b[39m, (\u001b[32m2\u001b[39m * np.pi - \u001b[32m0.1\u001b[39m))\n\u001b[32m      4\u001b[39m \u001b[38;5;28mprint\u001b[39m(winding_no_quad_num)\n",
      "\u001b[36mCell\u001b[39m\u001b[36m \u001b[39m\u001b[32mIn[2]\u001b[39m\u001b[32m, line 30\u001b[39m, in \u001b[36mW_integrand_num\u001b[39m\u001b[34m(k, J_11, J_1, J_3, J_33)\u001b[39m\n\u001b[32m     29\u001b[39m \u001b[38;5;28;01mdef\u001b[39;00m\u001b[38;5;250m \u001b[39m\u001b[34mW_integrand_num\u001b[39m(k, J_11, J_1, J_3, J_33):\n\u001b[32m---> \u001b[39m\u001b[32m30\u001b[39m     \u001b[38;5;28;01mreturn\u001b[39;00m (\u001b[32m1\u001b[39m / (\u001b[32m2\u001b[39m * np.pi)) * ((\u001b[43md_x\u001b[49m\u001b[43m(\u001b[49m\u001b[43mk\u001b[49m\u001b[43m,\u001b[49m\u001b[43m \u001b[49m\u001b[43mJ_11\u001b[49m\u001b[43m,\u001b[49m\u001b[43m \u001b[49m\u001b[43mJ_1\u001b[49m\u001b[43m,\u001b[49m\u001b[43m \u001b[49m\u001b[43mJ_3\u001b[49m\u001b[43m,\u001b[49m\u001b[43m \u001b[49m\u001b[43mJ_33\u001b[49m\u001b[43m)\u001b[49m\u001b[43m \u001b[49m\u001b[43m*\u001b[49m\u001b[43m \u001b[49m\u001b[43mdelta_k_d_y_num\u001b[49m\u001b[43m(\u001b[49m\u001b[43mk\u001b[49m\u001b[43m,\u001b[49m\u001b[43m \u001b[49m\u001b[43mJ_11\u001b[49m\u001b[43m,\u001b[49m\u001b[43m \u001b[49m\u001b[43mJ_1\u001b[49m\u001b[43m,\u001b[49m\u001b[43m \u001b[49m\u001b[43mJ_3\u001b[49m\u001b[43m,\u001b[49m\u001b[43m \u001b[49m\u001b[43mJ_33\u001b[49m\u001b[43m)\u001b[49m) - (d_y(k, J_11, J_1, J_3, J_33) * delta_k_d_x_num(k, J_11, J_1, J_3, J_33))) / ((d_x(k, J_11, J_1, J_3, J_33)**\u001b[32m2\u001b[39m) + (d_y(k, J_11, J_1, J_3, J_33)**\u001b[32m2\u001b[39m))\n",
      "\u001b[31mTypeError\u001b[39m: unsupported operand type(s) for *: 'float' and '_RichResult'"
     ]
    }
   ],
   "source": [
    "winding_no_quad = sp.integrate.quad(lambda x: W_integrand(x, J_11, J_1, J_3, J_33), 0, (2 * np.pi - 0.1))\n",
    "print(winding_no_quad)\n",
    "# winding_no_quad_num = sp.integrate.quad(lambda x: W_integrand_num(k, J_11, J_1, J_3, J_33), 0, (2 * np.pi - 0.1))\n",
    "# print(winding_no_quad_num)"
   ]
  }
 ],
 "metadata": {
  "kernelspec": {
   "display_name": "Python 3",
   "language": "python",
   "name": "python3"
  },
  "language_info": {
   "codemirror_mode": {
    "name": "ipython",
    "version": 3
   },
   "file_extension": ".py",
   "mimetype": "text/x-python",
   "name": "python",
   "nbconvert_exporter": "python",
   "pygments_lexer": "ipython3",
   "version": "3.13.5"
  }
 },
 "nbformat": 4,
 "nbformat_minor": 5
}

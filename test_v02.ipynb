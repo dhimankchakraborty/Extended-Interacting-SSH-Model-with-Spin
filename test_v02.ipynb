{
 "cells": [
  {
   "cell_type": "code",
   "execution_count": 2,
   "id": "6b57e579",
   "metadata": {},
   "outputs": [],
   "source": [
    "import numpy as np\n",
    "from itertools import combinations\n",
    "\n",
    "from functions import *"
   ]
  },
  {
   "cell_type": "code",
   "execution_count": null,
   "id": "675bec85",
   "metadata": {},
   "outputs": [],
   "source": [
    "def basis_set_generator(tot_sites, N_e_up, N_e_down): # Checked OK\n",
    "    spin_up_basis = []\n",
    "    spin_down_basis = []\n",
    "\n",
    "    for comb_up in combinations(range(tot_sites), N_e_up):\n",
    "        state = [0] * tot_sites\n",
    "        for idx in comb_up:\n",
    "            state[idx] = 1\n",
    "        spin_up_basis.append(state)\n",
    "\n",
    "    for comb_down in combinations(range(tot_sites), N_e_down):\n",
    "        state = [0] * tot_sites\n",
    "        for idx in comb_down:\n",
    "            state[idx] = 1\n",
    "        spin_down_basis.append(state)\n",
    "\n",
    "    basis = []\n",
    "\n",
    "    for up_state in spin_up_basis:\n",
    "        for down_state in spin_down_basis:\n",
    "            basis.append(up_state + down_state)\n",
    "    \n",
    "    return np.array(basis)\n"
   ]
  },
  {
   "cell_type": "code",
   "execution_count": null,
   "id": "8c0c35b4",
   "metadata": {},
   "outputs": [],
   "source": [
    "tot_sites = 4\n",
    "N_e_up = 2\n",
    "N_e_down = 2\n",
    "\n",
    "basis_set = basis_set_generator(tot_sites, N_e_up, N_e_down)\n",
    "\n",
    "print(len(basis_set))\n",
    "print(basis_set)"
   ]
  }
 ],
 "metadata": {
  "kernelspec": {
   "display_name": "Python 3",
   "language": "python",
   "name": "python3"
  },
  "language_info": {
   "codemirror_mode": {
    "name": "ipython",
    "version": 3
   },
   "file_extension": ".py",
   "mimetype": "text/x-python",
   "name": "python",
   "nbconvert_exporter": "python",
   "pygments_lexer": "ipython3",
   "version": "3.13.5"
  }
 },
 "nbformat": 4,
 "nbformat_minor": 5
}

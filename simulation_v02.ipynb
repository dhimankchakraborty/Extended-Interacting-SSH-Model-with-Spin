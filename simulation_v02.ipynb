{
 "cells": [
  {
   "cell_type": "code",
   "execution_count": 1,
   "id": "8fd1b4b9",
   "metadata": {},
   "outputs": [],
   "source": [
    "import numpy as np\n",
    "import copy\n",
    "import scipy as sp\n",
    "from itertools import combinations\n",
    "import matplotlib.pyplot as plt\n",
    "from numba import njit, prange"
   ]
  },
  {
   "cell_type": "code",
   "execution_count": 13,
   "id": "a7940101",
   "metadata": {},
   "outputs": [],
   "source": [
    "def generator_basis_set(tot_sites, N_e_up, N_e_down): # Tested OK\n",
    "    spin_up_basis = []\n",
    "    spin_down_basis = []\n",
    "\n",
    "    for comb_up in combinations(range(tot_sites), N_e_up):\n",
    "        state = [0] * tot_sites\n",
    "        for idx in comb_up:\n",
    "            state[idx] = 1\n",
    "        spin_up_basis.append(state)\n",
    "\n",
    "    for comb_down in combinations(range(tot_sites), N_e_down):\n",
    "        state = [0] * tot_sites\n",
    "        for idx in comb_down:\n",
    "            state[idx] = 1\n",
    "        spin_down_basis.append(state)\n",
    "\n",
    "    basis = []\n",
    "\n",
    "    for up_state in spin_up_basis:\n",
    "        for down_state in spin_down_basis:\n",
    "            basis.append([up_state, down_state])\n",
    "    \n",
    "    return np.array(basis)\n",
    "\n",
    "\n",
    "\n",
    "def hop_j_2_k(input_state, j, k, spin): # Tested OK\n",
    "    if input_state[spin][j] == 0 or input_state[spin][k] == 1:\n",
    "        return 0, None\n",
    "    \n",
    "    state = copy.deepcopy(input_state)\n",
    "    \n",
    "    sign = 1\n",
    "\n",
    "    # Destrying the particle\n",
    "\n",
    "    for i in range(j):\n",
    "        if state[spin][i] == 1:\n",
    "            sign = sign * (-1)\n",
    "    \n",
    "    state[spin][j] = 0\n",
    "\n",
    "    # Create the particle\n",
    "\n",
    "    for i in range(k):\n",
    "        if state[spin][i] == 1:\n",
    "            sign = sign * (-1)\n",
    "    \n",
    "    state[spin][k] = 1\n",
    "\n",
    "    return sign, state\n",
    "\n",
    "\n",
    "\n",
    "def map_state_2_idx(basis_set): # Tested OK\n",
    "    return {tuple(np.concatenate((state[0], state[1]))) : i for i, state in enumerate(basis_set)}\n",
    "\n",
    "\n",
    "\n",
    "def generate_hamiltonian_matrix(basis_set, dim, tot_sites, U, J_1, J_11, J_3, J_33):\n",
    "\n",
    "    state_2_idx_mapping = map_state_2_idx(basis_set)\n",
    "    H = np.zeros((dim, dim))\n",
    "\n",
    "    for a in range(dim):\n",
    "        state = basis_set[a].copy()\n",
    "\n",
    "        # Interaction Potential Energy\n",
    "\n",
    "        for i in range(tot_sites):\n",
    "            H[a, a] += U * state[0][i] * state[1][i]\n",
    "        \n",
    "        # Kinetic Energy\n",
    "\n",
    "        for s in range(2):\n",
    "            # for j in range(tot_sites):\n",
    "            #     for k in [j + 1, j - 1, j + 3, j - 3]:\n",
    "            #         if (k >= tot_sites) or (k < 0):\n",
    "            #             continue\n",
    "\n",
    "            #         hopped_state_sign, hopped_state = hop_j_2_k(state, j, k, s)\n",
    "                    \n",
    "            #         if hopped_state_sign == 0:\n",
    "            #             continue\n",
    "\n",
    "            #         b = state_2_idx_mapping[tuple(np.concatenate((hopped_state[0], hopped_state[1])))]\n",
    "\n",
    "            #         # # Test Print\n",
    "            #         # print(state[0], state[1], '------', s, '---', hopped_state[0], hopped_state[1], '---', hopped_state_sign, '--', b + 1)\n",
    "\n",
    "            #         if j % 2 == 0: # Identifies site A\n",
    "\n",
    "            #             if k == j + 1:\n",
    "            #                 H[a, b] -= J_11 * hopped_state_sign\n",
    "\n",
    "            #             elif k == j - 1:\n",
    "            #                 H[a, b] -= J_1 * hopped_state_sign\n",
    "\n",
    "            #             elif k == j + 3:\n",
    "            #                 H[a, b] -= J_33 * hopped_state_sign\n",
    "                        \n",
    "            #             else:\n",
    "            #                 H[a, b] -= J_3 * hopped_state_sign\n",
    "                    \n",
    "            #         else: # Identifies site B\n",
    "            #             if k == j + 1:\n",
    "            #                 H[a, b] -= J_1 * hopped_state_sign\n",
    "\n",
    "            #             elif k == j - 1:\n",
    "            #                 H[a, b] -= J_11 * hopped_state_sign\n",
    "\n",
    "            #             elif k == j + 3:\n",
    "            #                 H[a, b] -= J_3 * hopped_state_sign\n",
    "                        \n",
    "            #             else:\n",
    "            #                 H[a, b] -= J_33 * hopped_state_sign\n",
    "            for j in range(tot_sites):\n",
    "                for _, k in get_neighbors(j, tot_sites):\n",
    "                    if k < 0 or k >= tot_sites:\n",
    "                        continue\n",
    "\n",
    "                    hopped_state_sign, hopped_state = hop_j_2_k(state, j, k, s)\n",
    "                    if hopped_state_sign == 0:\n",
    "                        continue\n",
    "\n",
    "                    b = state_2_idx_mapping[tuple(np.concatenate((hopped_state[0], hopped_state[1])))]\n",
    "\n",
    "                    # # Assign hopping amplitude based on direction and sublattice\n",
    "                    # if abs(k - j) == 1:\n",
    "                    #     if j % 2 == 0:\n",
    "                    #         H[a, b] -= J_11 * hopped_state_sign  # intra-cell\n",
    "                    #     else:\n",
    "                    #         H[a, b] -= J_1 * hopped_state_sign    # inter-cell\n",
    "                    # elif abs(k - j) == 2:\n",
    "                    #     if j % 2 == 0:\n",
    "                    #         H[a, b] -= J_33 * hopped_state_sign   # intra-cell second NN\n",
    "                    #     else:\n",
    "                    #         H[a, b] -= J_3 * hopped_state_sign    # inter-cell second NN\n",
    "\n",
    "                    # For nearest neighbor\n",
    "                    if abs(k - j) == 1:\n",
    "                        if j % 2 == 0 and k == j + 1:  # A → B intra-cell\n",
    "                            H[a, b] -= J_11 * hopped_state_sign\n",
    "                        elif j % 2 == 1 and k == j - 1:  # B → A intra-cell\n",
    "                            H[a, b] -= J_11 * hopped_state_sign\n",
    "                        elif j % 2 == 0 and k == j - 1:  # A ← B inter-cell\n",
    "                            H[a, b] -= J_1 * hopped_state_sign\n",
    "                        elif j % 2 == 1 and k == j + 1:  # B → A inter-cell\n",
    "                            H[a, b] -= J_1 * hopped_state_sign\n",
    "\n",
    "                    # For second-nearest neighbor\n",
    "                    elif abs(k - j) == 2:\n",
    "                        if j % 2 == 0 and k == j + 2:  # A → A+2 intra-cell second NN\n",
    "                            H[a, b] -= J_33 * hopped_state_sign\n",
    "                        elif j % 2 == 1 and k == j + 2:  # B → B+2 intra-cell second NN\n",
    "                            H[a, b] -= J_33 * hopped_state_sign\n",
    "                        elif j % 2 == 0 and k == j - 2:  # A ← A-2 inter-cell second NN\n",
    "                            H[a, b] -= J_3 * hopped_state_sign\n",
    "                        elif j % 2 == 1 and k == j - 2:  # B ← B-2 inter-cell second NN\n",
    "                            H[a, b] -= J_3 * hopped_state_sign\n",
    "\n",
    "    return H\n",
    "\n",
    "\n",
    "\n",
    "def generate_n_matrix(basis_set, dim, site):\n",
    "    n_matrix = np.zeros((dim, dim))\n",
    "\n",
    "    for a in range(dim):\n",
    "        n_matrix[a, a] = basis_set[a][0][site] + basis_set[a][1][site]\n",
    "    \n",
    "    return n_matrix\n",
    "\n",
    "\n",
    "\n",
    "def generate_pos_sp_wf(psi, basis_set, tot_sites):\n",
    "    pos_sp_state = np.zeros((2, tot_sites))  # [spin][site]\n",
    "\n",
    "    for idx, amp in enumerate(psi):\n",
    "        up_state, down_state = basis_set[idx]\n",
    "        for site in range(tot_sites):\n",
    "            pos_sp_state[0, site] += amp * up_state[site]\n",
    "            pos_sp_state[1, site] += amp * down_state[site]\n",
    "\n",
    "    return pos_sp_state\n",
    "\n",
    "\n",
    "\n",
    "\n",
    "@njit\n",
    "def generate_spin_correlation(psi, basis_set, dim, tot_sites):\n",
    "    C = np.zeros((tot_sites, tot_sites))\n",
    "\n",
    "    for j in prange(tot_sites):\n",
    "        for k in prange(tot_sites):\n",
    "            val = 0.0\n",
    "            for idx in prange(dim):\n",
    "                up, down = basis_set[idx]\n",
    "                sz_j = 0.5 * (up[j] - down[j])\n",
    "                sz_k = 0.5 * (up[k] - down[k])\n",
    "                val += psi[idx] * sz_j * sz_k * psi[idx]\n",
    "            C[j, k] = val\n",
    "\n",
    "    return C\n",
    "\n",
    "\n",
    "\n",
    "def get_neighbors(j, tot_sites):\n",
    "    neighbors = []\n",
    "    if j % 2 == 0:  # A sublattice\n",
    "        if j + 1 < tot_sites:  # intra-cell hopping (A → B)\n",
    "            neighbors.append((j, j + 1))\n",
    "        if j >= 1:             # inter-cell hopping (A ← B of previous cell)\n",
    "            neighbors.append((j, j - 1))\n",
    "        if j + 2 < tot_sites:  # second-nearest neighbor intra-cell\n",
    "            neighbors.append((j, j + 2))\n",
    "        if j - 2 >= 0:         # backward second-nearest neighbor\n",
    "            neighbors.append((j, j - 2))\n",
    "    else:  # B sublattice\n",
    "        if j + 1 < tot_sites:  # inter-cell hopping (B → A of next cell)\n",
    "            neighbors.append((j, j + 1))\n",
    "        if j >= 1:             # intra-cell hopping (B ← A)\n",
    "            neighbors.append((j, j - 1))\n",
    "        if j + 2 < tot_sites:  # second-nearest neighbor inter-cell\n",
    "            neighbors.append((j, j + 2))\n",
    "        if j - 2 >= 0:         # backward second-nearest neighbor\n",
    "            neighbors.append((j, j - 2))\n",
    "    return neighbors"
   ]
  },
  {
   "cell_type": "code",
   "execution_count": 14,
   "id": "3171eba3",
   "metadata": {},
   "outputs": [],
   "source": [
    "tot_sites = 8\n",
    "N_e_up = tot_sites // 2\n",
    "N_e_down = N_e_up\n",
    "J_11 = 0.1\n",
    "J_1 = 0.1\n",
    "J_33 = 0.1\n",
    "J_3 = 0.8\n",
    "U = 10"
   ]
  },
  {
   "cell_type": "code",
   "execution_count": 15,
   "id": "a9822592",
   "metadata": {},
   "outputs": [
    {
     "name": "stdout",
     "output_type": "stream",
     "text": [
      "False\n"
     ]
    }
   ],
   "source": [
    "basis_set = generator_basis_set(tot_sites, N_e_up, N_e_down)\n",
    "dim = len(basis_set)\n",
    "\n",
    "H = generate_hamiltonian_matrix(basis_set, dim, tot_sites, U, J_1, J_11, J_3, J_33)\n",
    "\n",
    "# print(H)\n",
    "\n",
    "# print(len(basis_set))\n",
    "# print()\n",
    "# print(basis_set)\n",
    "print(sp.linalg.ishermitian(H))"
   ]
  },
  {
   "cell_type": "code",
   "execution_count": 16,
   "id": "13c85221",
   "metadata": {},
   "outputs": [],
   "source": [
    "e_val, e_vec = np.linalg.eigh(H)"
   ]
  },
  {
   "cell_type": "code",
   "execution_count": 34,
   "id": "9c0cf4ed",
   "metadata": {},
   "outputs": [],
   "source": [
    "e_vec_pos_sp = np.zeros((dim, 2, tot_sites))\n",
    "\n",
    "for a in range(dim):\n",
    "    e_vec_pos_sp[a] = generate_pos_sp_wf(e_vec[a], basis_set, tot_sites)"
   ]
  },
  {
   "cell_type": "code",
   "execution_count": 19,
   "id": "b7bba5f8",
   "metadata": {},
   "outputs": [
    {
     "data": {
      "image/png": "[encoded data removed]",
      "text/plain": [
       "<Figure size 480x480 with 2 Axes>"
      ]
     },
     "metadata": {},
     "output_type": "display_data"
    }
   ],
   "source": [
    "# Get ground state\n",
    "ground_state = e_vec[:, 0]\n",
    "\n",
    "# Compute spin correlation only for ground state\n",
    "spin_correlation_matrix = generate_spin_correlation(ground_state, basis_set, dim, tot_sites)\n",
    "\n",
    "# Plot it\n",
    "plt.matshow(spin_correlation_matrix)\n",
    "plt.title(\"Ground-State Spin Correlation Matrix\")\n",
    "plt.colorbar()\n",
    "plt.show()"
   ]
  },
  {
   "cell_type": "code",
   "execution_count": 20,
   "id": "43867a25",
   "metadata": {},
   "outputs": [
    {
     "data": {
      "image/png": "[encoded data removed]",
      "text/plain": [
       "<Figure size 640x480 with 1 Axes>"
      ]
     },
     "metadata": {},
     "output_type": "display_data"
    }
   ],
   "source": [
    "pos_sp_wf = generate_pos_sp_wf(ground_state, basis_set, tot_sites)\n",
    "plt.plot(pos_sp_wf[0], label=\"Spin-up\")\n",
    "plt.plot(pos_sp_wf[1], label=\"Spin-down\")\n",
    "plt.xlabel(\"Site\")\n",
    "plt.ylabel(\"Wavefunction Amplitude\")\n",
    "plt.legend()\n",
    "plt.show()"
   ]
  },
  {
   "cell_type": "code",
   "execution_count": 13,
   "id": "feb32ec0",
   "metadata": {},
   "outputs": [],
   "source": [
    "n_av = np.zeros((tot_sites))\n",
    "\n",
    "for site in range(tot_sites):\n",
    "    n_site_matrix = generate_n_matrix(basis_set, dim, site)\n",
    "    n_site_matrix_energy_basis = np.linalg.inv(e_vec) @ n_site_matrix @ e_vec\n",
    "\n",
    "    for i in range(dim):\n",
    "        n_av[site] += n_site_matrix_energy_basis[i, i]"
   ]
  },
  {
   "cell_type": "code",
   "execution_count": 17,
   "id": "e728fbc4",
   "metadata": {},
   "outputs": [
    {
     "data": {
      "image/png": "[encoded data removed]",
      "text/plain": [
       "<Figure size 640x480 with 1 Axes>"
      ]
     },
     "metadata": {},
     "output_type": "display_data"
    }
   ],
   "source": [
    "site = 4\n",
    "\n",
    "n_av = np.zeros((tot_sites))\n",
    "\n",
    "n_site_matrix = generate_n_matrix(basis_set, dim, site)\n",
    "n_site_matrix_energy_basis = np.linalg.inv(e_vec) @ n_site_matrix @ e_vec\n",
    "\n",
    "for i in range(dim):\n",
    "    n_av[site] += n_site_matrix_energy_basis[i, i]\n",
    "\n",
    "site_pos = np.arange(tot_sites)\n",
    "\n",
    "plt.plot(site_pos, n_av)\n",
    "plt.grid()\n",
    "plt.show()"
   ]
  },
  {
   "cell_type": "code",
   "execution_count": 6,
   "id": "513c6d06",
   "metadata": {},
   "outputs": [],
   "source": [
    "E = np.linalg.inv(e_vec) @ H @ e_vec\n",
    "\n",
    "for i in range(dim):\n",
    "    if np.round(E[i, i], decimals = 12) != np.round(e_val[i], decimals = 12):\n",
    "        print(False)\n",
    "        break"
   ]
  },
  {
   "cell_type": "code",
   "execution_count": 7,
   "id": "308b1568",
   "metadata": {},
   "outputs": [
    {
     "data": {
      "image/png": "[encoded data removed]",
      "text/plain": [
       "<Figure size 480x480 with 1 Axes>"
      ]
     },
     "metadata": {},
     "output_type": "display_data"
    }
   ],
   "source": [
    "plt.matshow(H)\n",
    "plt.show()"
   ]
  },
  {
   "cell_type": "code",
   "execution_count": 8,
   "id": "a36485f2",
   "metadata": {},
   "outputs": [
    {
     "name": "stdout",
     "output_type": "stream",
     "text": [
      "[1 1 0 0] [1 1 0 0]  :  0\n",
      "[1 1 0 0] [1 0 1 0]  :  1\n",
      "[1 1 0 0] [1 0 0 1]  :  2\n",
      "[1 1 0 0] [0 1 1 0]  :  3\n",
      "[1 1 0 0] [0 1 0 1]  :  4\n",
      "[1 1 0 0] [0 0 1 1]  :  5\n",
      "[1 0 1 0] [1 1 0 0]  :  6\n",
      "[1 0 1 0] [1 0 1 0]  :  7\n",
      "[1 0 1 0] [1 0 0 1]  :  8\n",
      "[1 0 1 0] [0 1 1 0]  :  9\n",
      "[1 0 1 0] [0 1 0 1]  :  10\n",
      "[1 0 1 0] [0 0 1 1]  :  11\n",
      "[1 0 0 1] [1 1 0 0]  :  12\n",
      "[1 0 0 1] [1 0 1 0]  :  13\n",
      "[1 0 0 1] [1 0 0 1]  :  14\n",
      "[1 0 0 1] [0 1 1 0]  :  15\n",
      "[1 0 0 1] [0 1 0 1]  :  16\n",
      "[1 0 0 1] [0 0 1 1]  :  17\n",
      "[0 1 1 0] [1 1 0 0]  :  18\n",
      "[0 1 1 0] [1 0 1 0]  :  19\n",
      "[0 1 1 0] [1 0 0 1]  :  20\n",
      "[0 1 1 0] [0 1 1 0]  :  21\n",
      "[0 1 1 0] [0 1 0 1]  :  22\n",
      "[0 1 1 0] [0 0 1 1]  :  23\n",
      "[0 1 0 1] [1 1 0 0]  :  24\n",
      "[0 1 0 1] [1 0 1 0]  :  25\n",
      "[0 1 0 1] [1 0 0 1]  :  26\n",
      "[0 1 0 1] [0 1 1 0]  :  27\n",
      "[0 1 0 1] [0 1 0 1]  :  28\n",
      "[0 1 0 1] [0 0 1 1]  :  29\n",
      "[0 0 1 1] [1 1 0 0]  :  30\n",
      "[0 0 1 1] [1 0 1 0]  :  31\n",
      "[0 0 1 1] [1 0 0 1]  :  32\n",
      "[0 0 1 1] [0 1 1 0]  :  33\n",
      "[0 0 1 1] [0 1 0 1]  :  34\n",
      "[0 0 1 1] [0 0 1 1]  :  35\n"
     ]
    }
   ],
   "source": [
    "state_2_idx_mapping = map_state_2_idx(basis_set)\n",
    "\n",
    "for key in state_2_idx_mapping:\n",
    "    print(np.array(key[0: tot_sites]), np.array(key[tot_sites: 2 * tot_sites]), ' : ', state_2_idx_mapping[key])"
   ]
  },
  {
   "cell_type": "code",
   "execution_count": 9,
   "id": "ff583381",
   "metadata": {},
   "outputs": [
    {
     "ename": "IndexError",
     "evalue": "index 200 is out of bounds for axis 0 with size 36",
     "output_type": "error",
     "traceback": [
      "\u001b[31m---------------------------------------------------------------------------\u001b[39m",
      "\u001b[31mIndexError\u001b[39m                                Traceback (most recent call last)",
      "\u001b[36mCell\u001b[39m\u001b[36m \u001b[39m\u001b[32mIn[9]\u001b[39m\u001b[32m, line 4\u001b[39m\n\u001b[32m      1\u001b[39m j = \u001b[32m2\u001b[39m\n\u001b[32m      2\u001b[39m k = j + \u001b[32m3\u001b[39m\n\u001b[32m----> \u001b[39m\u001b[32m4\u001b[39m state = \u001b[43mbasis_set\u001b[49m\u001b[43m[\u001b[49m\u001b[32;43m200\u001b[39;49m\u001b[43m]\u001b[49m\n\u001b[32m      5\u001b[39m spin = \u001b[32m1\u001b[39m\n\u001b[32m      7\u001b[39m hopped_state_sign, hopped_state = hop_j_2_k(state, j, k, spin)\n",
      "\u001b[31mIndexError\u001b[39m: index 200 is out of bounds for axis 0 with size 36"
     ]
    }
   ],
   "source": [
    "j = 2\n",
    "k = j + 3\n",
    "\n",
    "state = basis_set[200]\n",
    "spin = 1\n",
    "\n",
    "hopped_state_sign, hopped_state = hop_j_2_k(state, j, k, spin)\n",
    "\n",
    "print(state)\n",
    "print(hopped_state_sign, '\\n', hopped_state)"
   ]
  }
 ],
 "metadata": {
  "kernelspec": {
   "display_name": "Python 3",
   "language": "python",
   "name": "python3"
  },
  "language_info": {
   "codemirror_mode": {
    "name": "ipython",
    "version": 3
   },
   "file_extension": ".py",
   "mimetype": "text/x-python",
   "name": "python",
   "nbconvert_exporter": "python",
   "pygments_lexer": "ipython3",
   "version": "3.13.5"
  }
 },
 "nbformat": 4,
 "nbformat_minor": 5
}

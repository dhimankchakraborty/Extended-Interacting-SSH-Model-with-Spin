{
 "cells": [
  {
   "cell_type": "code",
   "execution_count": 2,
   "id": "8fd1b4b9",
   "metadata": {},
   "outputs": [],
   "source": [
    "import numpy as np\n",
    "import scipy as sp\n",
    "from itertools import combinations\n",
    "import matplotlib.pyplot as plt"
   ]
  },
  {
   "cell_type": "code",
   "execution_count": 15,
   "id": "a7940101",
   "metadata": {},
   "outputs": [],
   "source": [
    "def generator_basis_set(tot_sites, N_e_up, N_e_down):\n",
    "    spin_up_basis = []\n",
    "    spin_down_basis = []\n",
    "\n",
    "    for comb_up in combinations(range(tot_sites), N_e_up):\n",
    "        state = [0] * tot_sites\n",
    "        for idx in comb_up:\n",
    "            state[idx] = 1\n",
    "        spin_up_basis.append(state)\n",
    "\n",
    "    for comb_down in combinations(range(tot_sites), N_e_down):\n",
    "        state = [0] * tot_sites\n",
    "        for idx in comb_down:\n",
    "            state[idx] = 1\n",
    "        spin_down_basis.append(state)\n",
    "\n",
    "    basis = []\n",
    "\n",
    "    for up_state in spin_up_basis:\n",
    "        for down_state in spin_down_basis:\n",
    "            basis.append([up_state, down_state])\n",
    "    \n",
    "    return np.array(basis)\n",
    "\n",
    "\n",
    "\n",
    "def hop_j_2_k(state, j, k, spin):\n",
    "    if state[spin][j] == 0 or state[spin][k] == 1:\n",
    "        return 0, None\n",
    "    \n",
    "    state = state.copy()\n",
    "    \n",
    "    sign = 1\n",
    "    for i in range(j):\n",
    "        if state[spin][i] == 1:\n",
    "            sign = sign * (-1)\n",
    "    \n",
    "    state[spin][j] = 0\n",
    "\n",
    "    for i in range(k):\n",
    "        if state[spin][i] == 1:\n",
    "            sign = sign * (-1)\n",
    "    \n",
    "    state[spin][k] = 1\n",
    "\n",
    "    return sign, state\n"
   ]
  },
  {
   "cell_type": "code",
   "execution_count": 16,
   "id": "3171eba3",
   "metadata": {},
   "outputs": [],
   "source": [
    "tot_sites = 8\n",
    "N_e_up = tot_sites // 2\n",
    "N_e_down = N_e_up\n",
    "J_11 = 0.1\n",
    "J_1 = 0.1\n",
    "J_33 = 0.1\n",
    "J_3 = 0.1\n",
    "U = 10"
   ]
  },
  {
   "cell_type": "code",
   "execution_count": null,
   "id": "a9822592",
   "metadata": {},
   "outputs": [],
   "source": [
    "basis_set = generator_basis_set(tot_sites, N_e_up, N_e_down)\n",
    "\n",
    "print(len(basis_set))\n",
    "print()\n",
    "print(basis_set)"
   ]
  },
  {
   "cell_type": "code",
   "execution_count": 22,
   "id": "ff583381",
   "metadata": {},
   "outputs": [
    {
     "name": "stdout",
     "output_type": "stream",
     "text": [
      "0 None\n"
     ]
    }
   ],
   "source": [
    "j = 2\n",
    "k = j + -1\n",
    "\n",
    "state = basis_set[200]\n",
    "spin = 0\n",
    "\n",
    "hopped_state_sign, hopped_state = hop_j_2_k(state, j, k, spin)\n",
    "\n",
    "print(hopped_state_sign, hopped_state)"
   ]
  }
 ],
 "metadata": {
  "kernelspec": {
   "display_name": "Python 3",
   "language": "python",
   "name": "python3"
  },
  "language_info": {
   "codemirror_mode": {
    "name": "ipython",
    "version": 3
   },
   "file_extension": ".py",
   "mimetype": "text/x-python",
   "name": "python",
   "nbconvert_exporter": "python",
   "pygments_lexer": "ipython3",
   "version": "3.13.5"
  }
 },
 "nbformat": 4,
 "nbformat_minor": 5
}

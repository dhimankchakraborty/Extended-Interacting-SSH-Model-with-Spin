{
 "cells": [
  {
   "cell_type": "code",
   "execution_count": 1,
   "id": "7cd709f8",
   "metadata": {},
   "outputs": [],
   "source": [
    "import numpy as np\n",
    "from itertools import combinations"
   ]
  },
  {
   "cell_type": "code",
   "execution_count": 4,
   "id": "46468bf5",
   "metadata": {},
   "outputs": [],
   "source": [
    "def basis_set_generator(tot_sites, N_e_up, N_e_down): # Checked OK\n",
    "    basis = []\n",
    "\n",
    "    basis.append([])\n",
    "    for comb in combinations(range(tot_sites), N_e_up):\n",
    "        state = [0] * tot_sites\n",
    "        for idx in comb:\n",
    "            state[idx] = 1\n",
    "        basis[0].append(state)\n",
    "    \n",
    "    basis.append([])\n",
    "    for comb in combinations(range(tot_sites), N_e_down):\n",
    "        state = [0] * tot_sites\n",
    "        for idx in comb:\n",
    "            state[idx] = 1\n",
    "        basis[1].append(state)\n",
    "    \n",
    "    return basis"
   ]
  },
  {
   "cell_type": "code",
   "execution_count": null,
   "id": "ffe39aaf",
   "metadata": {},
   "outputs": [],
   "source": [
    "def basis_set_generator(tot_sites, N_e_up, N_e_down):\n",
    "    basis = []\n",
    "\n",
    "    spin_up_basis = []\n",
    "    spin_down_basis = []\n",
    "\n",
    "    for comb_up in combinations(range(tot_sites), N_e_up):\n",
    "        state = [0] * tot_sites\n",
    "        for idx in comb_up:\n",
    "            state[idx] = 1\n",
    "        spin_up_basis.append(state)\n",
    "\n",
    "    for comb_down in combinations(range(tot_sites), N_e_down):\n",
    "        state = [0] * tot_sites\n",
    "        for idx in comb_down:\n",
    "            state[idx] = 1\n",
    "        spin_down_basis.append(state)\n",
    "    \n",
    "    spin_up_basis = np.array(spin_up_basis)\n",
    "    spin_down_basis = np.array(spin_down_basis)\n",
    "\n",
    "    for up_state in spin_up_basis:\n",
    "        for down_state in spin_down_basis:\n",
    "            basis.append([up_state, down_state])\n",
    "    \n",
    "    \n",
    "    return np.array(basis)"
   ]
  },
  {
   "cell_type": "code",
   "execution_count": 20,
   "id": "11fe2666",
   "metadata": {},
   "outputs": [
    {
     "name": "stdout",
     "output_type": "stream",
     "text": [
      "24\n"
     ]
    }
   ],
   "source": [
    "tot_sites = 4\n",
    "N_e_up = 2\n",
    "N_e_down = 3\n",
    "\n",
    "basis_set = basis_set_generator(tot_sites, N_e_up, N_e_down)\n",
    "print(len(basis_set))"
   ]
  }
 ],
 "metadata": {
  "kernelspec": {
   "display_name": "Python 3",
   "language": "python",
   "name": "python3"
  },
  "language_info": {
   "codemirror_mode": {
    "name": "ipython",
    "version": 3
   },
   "file_extension": ".py",
   "mimetype": "text/x-python",
   "name": "python",
   "nbconvert_exporter": "python",
   "pygments_lexer": "ipython3",
   "version": "3.13.4"
  }
 },
 "nbformat": 4,
 "nbformat_minor": 5
}

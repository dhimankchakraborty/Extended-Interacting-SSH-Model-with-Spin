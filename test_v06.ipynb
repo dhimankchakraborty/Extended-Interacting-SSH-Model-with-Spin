{
 "cells": [
  {
   "cell_type": "code",
   "execution_count": null,
   "id": "076b2ef7",
   "metadata": {},
   "outputs": [],
   "source": [
    "import numpy as np\n",
    "from itertools import combinations\n",
    "import matplotlib.pyplot as plt"
   ]
  },
  {
   "cell_type": "code",
   "execution_count": 8,
   "id": "0528e91a",
   "metadata": {},
   "outputs": [
    {
     "name": "stdout",
     "output_type": "stream",
     "text": [
      "0b1\n"
     ]
    }
   ],
   "source": [
    "a = 1\n",
    "\n",
    "print(str(bin(a)))"
   ]
  },
  {
   "cell_type": "code",
   "execution_count": 26,
   "id": "1d1cb125",
   "metadata": {},
   "outputs": [
    {
     "name": "stdout",
     "output_type": "stream",
     "text": [
      "4 0b100\n",
      "-5 -0b101\n",
      "8 0b1000\n",
      "2 0b10\n"
     ]
    }
   ],
   "source": [
    "a = 4\n",
    "print(a, bin(a))\n",
    "\n",
    "b_1 = ~a\n",
    "print(b_1, bin(b_1))\n",
    "\n",
    "b_2 = a << 1\n",
    "print(b_2, bin(b_2))\n",
    "\n",
    "b_3 = a >> 1\n",
    "print(b_3, bin(b_3))"
   ]
  },
  {
   "cell_type": "code",
   "execution_count": 61,
   "id": "b33640cc",
   "metadata": {},
   "outputs": [
    {
     "name": "stdout",
     "output_type": "stream",
     "text": [
      "6\n",
      "[(0, 1), (0, 2), (0, 3), (1, 2), (1, 3), (2, 3)]\n",
      "[ 3  5  9  6 10 12]\n",
      "3----0011\n",
      "5----0101\n",
      "9----1001\n",
      "6----0110\n",
      "10----1010\n",
      "12----1100\n"
     ]
    }
   ],
   "source": [
    "tot_sites = 4\n",
    "N_e = 2\n",
    "\n",
    "\n",
    "combination_arr = list(combinations(range(tot_sites), N_e))\n",
    "\n",
    "print(len(combination_arr))\n",
    "print(combination_arr)\n",
    "\n",
    "basis = []\n",
    "for i, comb in enumerate(combination_arr):\n",
    "    state = 0\n",
    "    for j in comb:\n",
    "        state = (1 << j) + state\n",
    "    basis.append(state)\n",
    "basis = np.array(basis)\n",
    "print(basis)\n",
    "\n",
    "for state in basis:\n",
    "    print(state, end='----')\n",
    "    state = list(bin(state))[2:]\n",
    "    # print(state)\n",
    "\n",
    "    for i in range(tot_sites - len(state)):\n",
    "        print(0, end='')\n",
    "    \n",
    "    for i in state:\n",
    "        print(i, end='')\n",
    "\n",
    "    print()\n",
    "\n"
   ]
  }
 ],
 "metadata": {
  "kernelspec": {
   "display_name": "Python 3",
   "language": "python",
   "name": "python3"
  },
  "language_info": {
   "codemirror_mode": {
    "name": "ipython",
    "version": 3
   },
   "file_extension": ".py",
   "mimetype": "text/x-python",
   "name": "python",
   "nbconvert_exporter": "python",
   "pygments_lexer": "ipython3",
   "version": "3.13.5"
  }
 },
 "nbformat": 4,
 "nbformat_minor": 5
}

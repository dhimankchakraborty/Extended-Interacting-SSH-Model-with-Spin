{
 "cells": [
  {
   "cell_type": "markdown",
   "id": "eb30da6c",
   "metadata": {},
   "source": [
    "### Imports"
   ]
  },
  {
   "cell_type": "code",
   "execution_count": 3,
   "id": "a861d653",
   "metadata": {},
   "outputs": [],
   "source": [
    "import numpy as np\n",
    "from itertools import combinations\n",
    "import matplotlib.pyplot as plt"
   ]
  },
  {
   "cell_type": "markdown",
   "id": "07151768",
   "metadata": {},
   "source": [
    "### Print Basis States"
   ]
  },
  {
   "cell_type": "code",
   "execution_count": 33,
   "id": "b71a5d8c",
   "metadata": {},
   "outputs": [],
   "source": [
    "def print_half_state(state, tot_sites):\n",
    "    state = list(bin(state))[2:]\n",
    "\n",
    "    state_str = ''\n",
    "    for i in range(tot_sites - len(state)):\n",
    "        state_str += '0'\n",
    "    \n",
    "    for i in state:\n",
    "        state_str += str(i)\n",
    "    \n",
    "    return state_str\n",
    "\n",
    "\n",
    "\n",
    "def print_full_state(state, tot_sites):\n",
    "    up_part = print_half_state(state[0], tot_sites)\n",
    "    down_part = print_half_state(state[1], tot_sites)\n",
    "    \n",
    "    return '||' + up_part + '|' + down_part + '||'"
   ]
  },
  {
   "cell_type": "markdown",
   "id": "55d1bd7d",
   "metadata": {},
   "source": [
    "### Generate Basis Set"
   ]
  },
  {
   "cell_type": "code",
   "execution_count": null,
   "id": "8a6e981e",
   "metadata": {},
   "outputs": [],
   "source": [
    "def generate_basis_set(tot_sites, N_e_up, N_e_down):\n",
    "    spin_up_states_arr = []\n",
    "    spin_down_states_arr = []\n",
    "\n",
    "    for comb in combinations(range(tot_sites), N_e_up):\n",
    "        state = 0\n",
    "        for j in comb:\n",
    "            state = (1 << j) + state\n",
    "        spin_up_states_arr.append(state)\n",
    "    \n",
    "    for comb in combinations(range(tot_sites), N_e_down):\n",
    "        state = 0\n",
    "        for j in comb:\n",
    "            state = (1 << j) + state\n",
    "        spin_down_states_arr.append(state)\n",
    "    \n",
    "    dim = len(spin_up_states_arr) * len(spin_down_states_arr)\n",
    "\n",
    "    basis_states_arr = np.zeros((dim, 2), dtype=np.uintc)\n",
    "    k = 0\n",
    "    for i in range(len(spin_up_states_arr)):\n",
    "        for j in range(len(spin_down_states_arr)):\n",
    "            basis_states_arr[k][0] = spin_up_states_arr[i]\n",
    "            basis_states_arr[k][1] = spin_down_states_arr[j]\n",
    "            k += 1\n",
    "    \n",
    "    return basis_states_arr"
   ]
  },
  {
   "cell_type": "markdown",
   "id": "b8ca7ad2",
   "metadata": {},
   "source": [
    "### Generate Hamiltonian Matrix"
   ]
  },
  {
   "cell_type": "code",
   "execution_count": null,
   "id": "a7bc3241",
   "metadata": {},
   "outputs": [],
   "source": [
    "def hopping_operator(state, initial_position, target_position, spin):\n",
    "    destroy_int = 1 << initial_position\n",
    "    create_int = 1 << target_position\n",
    "\n",
    "    state[spin] = (state[spin] ^ destroy_int) ^ create_int\n",
    "\n",
    "    return state\n",
    "\n",
    "\n",
    "\n",
    "def map_basis_dict(basis_states_arr):\n",
    "    return {tuple(state) : i for i, state in enumerate(basis_states_arr)}\n",
    "\n",
    "\n",
    "\n",
    "def generate_hamiltonian_matrix(basis_states_arr, tot_sites, N_e_up, N_e_down, )"
   ]
  },
  {
   "cell_type": "markdown",
   "id": "0e9b07b6",
   "metadata": {},
   "source": [
    "### Test Code"
   ]
  },
  {
   "cell_type": "code",
   "execution_count": 52,
   "id": "fb28738b",
   "metadata": {},
   "outputs": [
    {
     "name": "stdout",
     "output_type": "stream",
     "text": [
      "{(np.uint32(3), np.uint32(3)): 0, (np.uint32(3), np.uint32(5)): 1, (np.uint32(3), np.uint32(9)): 2, (np.uint32(3), np.uint32(6)): 3, (np.uint32(3), np.uint32(10)): 4, (np.uint32(3), np.uint32(12)): 5, (np.uint32(5), np.uint32(3)): 6, (np.uint32(5), np.uint32(5)): 7, (np.uint32(5), np.uint32(9)): 8, (np.uint32(5), np.uint32(6)): 9, (np.uint32(5), np.uint32(10)): 10, (np.uint32(5), np.uint32(12)): 11, (np.uint32(9), np.uint32(3)): 12, (np.uint32(9), np.uint32(5)): 13, (np.uint32(9), np.uint32(9)): 14, (np.uint32(9), np.uint32(6)): 15, (np.uint32(9), np.uint32(10)): 16, (np.uint32(9), np.uint32(12)): 17, (np.uint32(6), np.uint32(3)): 18, (np.uint32(6), np.uint32(5)): 19, (np.uint32(6), np.uint32(9)): 20, (np.uint32(6), np.uint32(6)): 21, (np.uint32(6), np.uint32(10)): 22, (np.uint32(6), np.uint32(12)): 23, (np.uint32(10), np.uint32(3)): 24, (np.uint32(10), np.uint32(5)): 25, (np.uint32(10), np.uint32(9)): 26, (np.uint32(10), np.uint32(6)): 27, (np.uint32(10), np.uint32(10)): 28, (np.uint32(10), np.uint32(12)): 29, (np.uint32(12), np.uint32(3)): 30, (np.uint32(12), np.uint32(5)): 31, (np.uint32(12), np.uint32(9)): 32, (np.uint32(12), np.uint32(6)): 33, (np.uint32(12), np.uint32(10)): 34, (np.uint32(12), np.uint32(12)): 35}\n"
     ]
    }
   ],
   "source": [
    "print(map_basis_dict(basis_states_arr))"
   ]
  },
  {
   "cell_type": "code",
   "execution_count": 42,
   "id": "a32eee04",
   "metadata": {},
   "outputs": [
    {
     "name": "stdout",
     "output_type": "stream",
     "text": [
      "||0011|0000||\n"
     ]
    }
   ],
   "source": [
    "state = hopping_operator([3, 10], 1, 3, 1)\n",
    "print(print_full_state(state, 4))"
   ]
  },
  {
   "cell_type": "code",
   "execution_count": 36,
   "id": "b791a252",
   "metadata": {},
   "outputs": [
    {
     "name": "stdout",
     "output_type": "stream",
     "text": [
      "36\n",
      "[3 3] -------- ||0011|0011||\n",
      "[3 5] -------- ||0011|0101||\n",
      "[3 9] -------- ||0011|1001||\n",
      "[3 6] -------- ||0011|0110||\n",
      "[ 3 10] -------- ||0011|1010||\n",
      "[ 3 12] -------- ||0011|1100||\n",
      "[5 3] -------- ||0101|0011||\n",
      "[5 5] -------- ||0101|0101||\n",
      "[5 9] -------- ||0101|1001||\n",
      "[5 6] -------- ||0101|0110||\n",
      "[ 5 10] -------- ||0101|1010||\n",
      "[ 5 12] -------- ||0101|1100||\n",
      "[9 3] -------- ||1001|0011||\n",
      "[9 5] -------- ||1001|0101||\n",
      "[9 9] -------- ||1001|1001||\n",
      "[9 6] -------- ||1001|0110||\n",
      "[ 9 10] -------- ||1001|1010||\n",
      "[ 9 12] -------- ||1001|1100||\n",
      "[6 3] -------- ||0110|0011||\n",
      "[6 5] -------- ||0110|0101||\n",
      "[6 9] -------- ||0110|1001||\n",
      "[6 6] -------- ||0110|0110||\n",
      "[ 6 10] -------- ||0110|1010||\n",
      "[ 6 12] -------- ||0110|1100||\n",
      "[10  3] -------- ||1010|0011||\n",
      "[10  5] -------- ||1010|0101||\n",
      "[10  9] -------- ||1010|1001||\n",
      "[10  6] -------- ||1010|0110||\n",
      "[10 10] -------- ||1010|1010||\n",
      "[10 12] -------- ||1010|1100||\n",
      "[12  3] -------- ||1100|0011||\n",
      "[12  5] -------- ||1100|0101||\n",
      "[12  9] -------- ||1100|1001||\n",
      "[12  6] -------- ||1100|0110||\n",
      "[12 10] -------- ||1100|1010||\n",
      "[12 12] -------- ||1100|1100||\n"
     ]
    }
   ],
   "source": [
    "tot_sites = 4\n",
    "N_e_up = 2\n",
    "N_e_down = 2\n",
    "\n",
    "\n",
    "\n",
    "basis_states_arr = generate_basis_set(tot_sites, N_e_up, N_e_down)\n",
    "# print(basis_states_arr)\n",
    "print(len(basis_states_arr))\n",
    "\n",
    "for state in basis_states_arr:\n",
    "    print(state, '--------', print_full_state(state, tot_sites))"
   ]
  },
  {
   "cell_type": "code",
   "execution_count": 34,
   "id": "e82081d1",
   "metadata": {},
   "outputs": [
    {
     "name": "stdout",
     "output_type": "stream",
     "text": [
      "||0101|0011||\n"
     ]
    }
   ],
   "source": [
    "print(print_full_state([5, 3], 4))"
   ]
  }
 ],
 "metadata": {
  "kernelspec": {
   "display_name": "Python 3",
   "language": "python",
   "name": "python3"
  },
  "language_info": {
   "codemirror_mode": {
    "name": "ipython",
    "version": 3
   },
   "file_extension": ".py",
   "mimetype": "text/x-python",
   "name": "python",
   "nbconvert_exporter": "python",
   "pygments_lexer": "ipython3",
   "version": "3.13.5"
  }
 },
 "nbformat": 4,
 "nbformat_minor": 5
}

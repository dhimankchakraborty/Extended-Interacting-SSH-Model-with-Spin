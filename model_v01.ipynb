{
 "cells": [
  {
   "cell_type": "code",
   "execution_count": 3,
   "id": "a861d653",
   "metadata": {},
   "outputs": [],
   "source": [
    "import numpy as np\n",
    "from itertools import combinations\n",
    "import matplotlib.pyplot as plt"
   ]
  },
  {
   "cell_type": "code",
   "execution_count": null,
   "id": "b71a5d8c",
   "metadata": {},
   "outputs": [],
   "source": [
    "def print_half_state(state, tot_sites):\n",
    "    state = list(bin(state))[2:]\n",
    "\n",
    "    state_str = ''\n",
    "    for i in range(tot_sites - len(state)):\n",
    "        state_str += '0'\n",
    "    \n",
    "    for i in state:\n",
    "        state_str += str(i)\n",
    "    \n",
    "    return state_str\n",
    "\n",
    "\n",
    "\n",
    "def print_full_state(state, tot_sites):\n",
    "    up_part = print_half_state(state[0], tot_sites)\n",
    "    down_part = print_half_state(state[1], tot_sites)\n",
    "    \n",
    "    return '||' + up_part + '|' + down_part + '||'"
   ]
  },
  {
   "cell_type": "code",
   "execution_count": null,
   "id": "8a6e981e",
   "metadata": {},
   "outputs": [],
   "source": [
    "def generate_basis_set(tot_sites, N_e_up, N_e_down):\n",
    "    spin_up_states_arr = []\n",
    "    spin_down_states_arr = []\n",
    "\n",
    "    for comb in combinations(range(tot_sites), N_e_up):\n",
    "        state = 0\n",
    "        for j in comb:\n",
    "            state = (1 << j) + state\n",
    "        spin_up_states_arr.append(state)\n",
    "    \n",
    "    for comb in combinations(range(tot_sites), N_e_down):\n",
    "        state = 0\n",
    "        for j in comb:\n",
    "            state = (1 << j) + state\n",
    "        spin_down_states_arr.append(state)\n",
    "    \n",
    "    dim = len(spin_up_states_arr) * len(spin_down_states_arr)\n",
    "\n",
    "    basis_states_arr = np.zeros((dim, 2), dtype=np.uintc)\n",
    "    k = 0\n",
    "    for i in range(len(spin_up_states_arr)):\n",
    "        for j in range(len(spin_down_states_arr)):\n",
    "            basis_states_arr[k][0] = spin_up_states_arr[i]\n",
    "            basis_states_arr[k][1] = spin_down_states_arr[j]\n",
    "            k += 1\n",
    "    \n",
    "    return basis_states_arr\n",
    "\n",
    "\n",
    "\n"
   ]
  },
  {
   "cell_type": "code",
   "execution_count": null,
   "id": "b791a252",
   "metadata": {},
   "outputs": [],
   "source": [
    "tot_sites = 4\n",
    "N_e_up = 2\n",
    "N_e_down = 2\n",
    "\n",
    "\n",
    "\n",
    "basis_states_arr = generate_basis_set(tot_sites, N_e_up, N_e_down)\n",
    "# print(basis_states_arr)\n",
    "print(len(basis_states_arr))\n",
    "\n",
    "for state in basis_states_arr:\n",
    "    print(state, '--------', print_full_state(state, tot_sites))"
   ]
  },
  {
   "cell_type": "code",
   "execution_count": 19,
   "id": "e82081d1",
   "metadata": {},
   "outputs": [
    {
     "name": "stdout",
     "output_type": "stream",
     "text": [
      "------\n",
      "|0101|\n",
      "|0011|\n",
      "------\n"
     ]
    }
   ],
   "source": [
    "print(print_full_state([5, 3], 4))"
   ]
  }
 ],
 "metadata": {
  "kernelspec": {
   "display_name": "Python 3",
   "language": "python",
   "name": "python3"
  },
  "language_info": {
   "codemirror_mode": {
    "name": "ipython",
    "version": 3
   },
   "file_extension": ".py",
   "mimetype": "text/x-python",
   "name": "python",
   "nbconvert_exporter": "python",
   "pygments_lexer": "ipython3",
   "version": "3.13.5"
  }
 },
 "nbformat": 4,
 "nbformat_minor": 5
}
